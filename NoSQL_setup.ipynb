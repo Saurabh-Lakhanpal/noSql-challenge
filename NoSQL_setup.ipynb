{
 "cells": [
  {
   "cell_type": "markdown",
   "id": "9a57c4c6",
   "metadata": {},
   "source": [
    "# Eat Safe, Love"
   ]
  },
  {
   "cell_type": "markdown",
   "id": "064ef857",
   "metadata": {},
   "source": [
    "## Part 1: Database and Jupyter Notebook Set Up"
   ]
  },
  {
   "cell_type": "markdown",
   "id": "664e3c1f",
   "metadata": {},
   "source": [
    "Import the data provided in the `establishments.json` file from your Terminal. Name the database `uk_food` and the collection `establishments`.\n",
    "\n",
    "Within this markdown cell, copy the line of text you used to import the data from your Terminal. This way, future analysts will be able to repeat your process.\n",
    "\n",
    "Import the dataset with: `mongoimport --type json -d uk_food -c establishments --drop --jsonArray establishments.json`"
   ]
  },
  {
   "cell_type": "code",
   "execution_count": 28,
   "id": "27bb5c4f",
   "metadata": {},
   "outputs": [
    {
     "name": "stdout",
     "output_type": "stream",
     "text": [
      "MongoDB shell version v4.0.3\n",
      "connecting to: mongodb://127.0.0.1:27017/uk_food\n",
      "Implicit session: session { \"id\" : UUID(\"9751bfda-0adc-4511-8f29-8224ad27056c\") }\n",
      "MongoDB server version: 8.0.4\n",
      "WARNING: shell and server versions do not match\n",
      "{ \"ok\" : 1 }\n"
     ]
    }
   ],
   "source": [
    "# In case to re-run and start afresh by dropping the database.\n",
    "!mongo uk_food --eval \"db.dropDatabase()\""
   ]
  },
  {
   "cell_type": "code",
   "execution_count": 29,
   "id": "bc24408e",
   "metadata": {},
   "outputs": [
    {
     "name": "stderr",
     "output_type": "stream",
     "text": [
      "2025-01-25T10:41:19.102-0500\tconnected to: mongodb://localhost/\n",
      "2025-01-25T10:41:19.104-0500\tdropping: uk_food.establishments\n",
      "2025-01-25T10:41:20.522-0500\t39779 document(s) imported successfully. 0 document(s) failed to import.\n"
     ]
    }
   ],
   "source": [
    "# Import the database by running this command line from with in the notebook\n",
    "!mongoimport --type json -d uk_food -c establishments --drop --jsonArray ../NoSql-challenge/Resources/establishments.json"
   ]
  },
  {
   "cell_type": "code",
   "execution_count": 30,
   "id": "3ecdd008",
   "metadata": {},
   "outputs": [],
   "source": [
    "# Import dependencies\n",
    "from pymongo import MongoClient\n",
    "from pprint import pprint\n",
    "import json\n",
    "import os"
   ]
  },
  {
   "cell_type": "code",
   "execution_count": 31,
   "id": "59390c4a",
   "metadata": {},
   "outputs": [],
   "source": [
    "# Create an instance of MongoClient\n",
    "mongo = MongoClient(port=27017)"
   ]
  },
  {
   "cell_type": "code",
   "execution_count": 32,
   "id": "7f9ececa",
   "metadata": {},
   "outputs": [
    {
     "name": "stdout",
     "output_type": "stream",
     "text": [
      "Database 'uk_food' found. Proceed !\n"
     ]
    }
   ],
   "source": [
    "# confirm that our new database was created\n",
    "# List all databases\n",
    "database_names = mongo.list_database_names()\n",
    "\n",
    "# Check if 'uk_food' database exists\n",
    "if 'uk_food' in database_names:\n",
    "    print(\"Database 'uk_food' found. Proceed !\")\n",
    "else:\n",
    "    print(\"Database 'uk_food' not found. Re-run the second cell to import database.\")"
   ]
  },
  {
   "cell_type": "code",
   "execution_count": 33,
   "id": "71e373c1",
   "metadata": {},
   "outputs": [],
   "source": [
    "# assign the uk_food database to a variable name\n",
    "db = mongo['uk_food']"
   ]
  },
  {
   "cell_type": "code",
   "execution_count": 34,
   "id": "ef1b89ed",
   "metadata": {},
   "outputs": [
    {
     "name": "stdout",
     "output_type": "stream",
     "text": [
      "['establishments']\n"
     ]
    }
   ],
   "source": [
    "# review the collections in our new database\n",
    "print(db.list_collection_names())"
   ]
  },
  {
   "cell_type": "code",
   "execution_count": 35,
   "id": "6a0d92df",
   "metadata": {},
   "outputs": [
    {
     "name": "stdout",
     "output_type": "stream",
     "text": [
      "{'AddressLine1': 'The Bay',\n",
      " 'AddressLine2': 'St Margarets Bay',\n",
      " 'AddressLine3': 'Kent',\n",
      " 'AddressLine4': '',\n",
      " 'BusinessName': 'The Coastguard Inn',\n",
      " 'BusinessType': 'Pub/bar/nightclub',\n",
      " 'BusinessTypeID': 7843,\n",
      " 'ChangesByServerID': 0,\n",
      " 'Distance': 4587.347174863443,\n",
      " 'FHRSID': 1034540,\n",
      " 'LocalAuthorityBusinessID': 'PI/000078691',\n",
      " 'LocalAuthorityCode': '182',\n",
      " 'LocalAuthorityEmailAddress': 'publicprotection@dover.gov.uk',\n",
      " 'LocalAuthorityName': 'Dover',\n",
      " 'LocalAuthorityWebSite': 'http://www.dover.gov.uk/',\n",
      " 'NewRatingPending': False,\n",
      " 'Phone': '',\n",
      " 'PostCode': 'CT15 6DY',\n",
      " 'RatingDate': '2022-08-17T00:00:00',\n",
      " 'RatingKey': 'fhrs_5_en-gb',\n",
      " 'RatingValue': '5',\n",
      " 'RightToReply': '',\n",
      " 'SchemeType': 'FHRS',\n",
      " '_id': ObjectId('6795061fcd6ec0462f31c84d'),\n",
      " 'geocode': {'latitude': '51.152225', 'longitude': '1.387974'},\n",
      " 'links': [{'href': 'https://api.ratings.food.gov.uk/establishments/1034540',\n",
      "            'rel': 'self'}],\n",
      " 'meta': {'dataSource': None,\n",
      "          'extractDate': '0001-01-01T00:00:00',\n",
      "          'itemCount': 0,\n",
      "          'pageNumber': 0,\n",
      "          'pageSize': 0,\n",
      "          'returncode': None,\n",
      "          'totalCount': 0,\n",
      "          'totalPages': 0},\n",
      " 'scores': {'ConfidenceInManagement': 0, 'Hygiene': 0, 'Structural': 5}}\n"
     ]
    }
   ],
   "source": [
    "# review a document in the establishments collection\n",
    "document = db.establishments.find_one()\n",
    "pprint(document)"
   ]
  },
  {
   "cell_type": "code",
   "execution_count": 36,
   "id": "11c9f11b",
   "metadata": {},
   "outputs": [],
   "source": [
    "# assign the collection to a variable\n",
    "establishments = db['establishments']"
   ]
  },
  {
   "cell_type": "markdown",
   "id": "d5671434",
   "metadata": {},
   "source": [
    "## Part 2: Update the Database"
   ]
  },
  {
   "cell_type": "markdown",
   "id": "314bd884",
   "metadata": {},
   "source": [
    "1. An exciting new halal restaurant just opened in Greenwich, but hasn't been rated yet. The magazine has asked you to include it in your analysis. Add the following restaurant \"Penang Flavours\" to the database."
   ]
  },
  {
   "cell_type": "code",
   "execution_count": 37,
   "id": "c2da7648",
   "metadata": {},
   "outputs": [],
   "source": [
    "# Create a dictionary for the new restaurant data\n",
    "new_halal = {\n",
    "    \"BusinessName\": \"Penang Flavours\",\n",
    "    \"BusinessType\": \"Restaurant/Cafe/Canteen\",\n",
    "    \"BusinessTypeID\": \"\",\n",
    "    \"AddressLine1\": \"Penang Flavours\",\n",
    "    \"AddressLine2\": \"146A Plumstead Rd\",\n",
    "    \"AddressLine3\": \"London\",\n",
    "    \"AddressLine4\": \"\",\n",
    "    \"PostCode\": \"SE18 7DY\",\n",
    "    \"Phone\": \"\",\n",
    "    \"LocalAuthorityCode\": \"511\",\n",
    "    \"LocalAuthorityName\": \"Greenwich\",\n",
    "    \"LocalAuthorityWebSite\": \"http://www.royalgreenwich.gov.uk\",\n",
    "    \"LocalAuthorityEmailAddress\": \"health@royalgreenwich.gov.uk\",\n",
    "    \"scores\": {\n",
    "        \"Hygiene\": \"\",\n",
    "        \"Structural\": \"\",\n",
    "        \"ConfidenceInManagement\": \"\"\n",
    "    },\n",
    "    \"SchemeType\": \"FHRS\",\n",
    "    \"geocode\": {\n",
    "        \"longitude\": \"0.08384000\",\n",
    "        \"latitude\": \"51.49014200\"\n",
    "    },\n",
    "    \"RightToReply\": \"\",\n",
    "    \"Distance\": 4623.9723280747176,\n",
    "    \"NewRatingPending\": True\n",
    "}"
   ]
  },
  {
   "cell_type": "code",
   "execution_count": 38,
   "id": "a6e5cece",
   "metadata": {},
   "outputs": [
    {
     "data": {
      "text/plain": [
       "InsertOneResult(ObjectId('679506207425e00ced16aa5f'), acknowledged=True)"
      ]
     },
     "execution_count": 38,
     "metadata": {},
     "output_type": "execute_result"
    }
   ],
   "source": [
    "# Insert the new restaurant into the collection\n",
    "establishments.insert_one(new_halal)"
   ]
  },
  {
   "cell_type": "code",
   "execution_count": 39,
   "id": "63bb10f9",
   "metadata": {},
   "outputs": [
    {
     "name": "stdout",
     "output_type": "stream",
     "text": [
      "{'AddressLine1': 'Penang Flavours',\n",
      " 'AddressLine2': '146A Plumstead Rd',\n",
      " 'AddressLine3': 'London',\n",
      " 'AddressLine4': '',\n",
      " 'BusinessName': 'Penang Flavours',\n",
      " 'BusinessType': 'Restaurant/Cafe/Canteen',\n",
      " 'BusinessTypeID': '',\n",
      " 'Distance': 4623.972328074718,\n",
      " 'LocalAuthorityCode': '511',\n",
      " 'LocalAuthorityEmailAddress': 'health@royalgreenwich.gov.uk',\n",
      " 'LocalAuthorityName': 'Greenwich',\n",
      " 'LocalAuthorityWebSite': 'http://www.royalgreenwich.gov.uk',\n",
      " 'NewRatingPending': True,\n",
      " 'Phone': '',\n",
      " 'PostCode': 'SE18 7DY',\n",
      " 'RightToReply': '',\n",
      " 'SchemeType': 'FHRS',\n",
      " '_id': ObjectId('679506207425e00ced16aa5f'),\n",
      " 'geocode': {'latitude': '51.49014200', 'longitude': '0.08384000'},\n",
      " 'scores': {'ConfidenceInManagement': '', 'Hygiene': '', 'Structural': ''}}\n"
     ]
    }
   ],
   "source": [
    "# Check that the new restaurant was inserted\n",
    "query = {\n",
    "    \"BusinessName\": \"Penang Flavours\"\n",
    "    }\n",
    "\n",
    "# Find documents matching the query\n",
    "restaurants = establishments.find(query)\n",
    "\n",
    "# Print each document found\n",
    "for restaurant in restaurants:\n",
    "    pprint(restaurant)"
   ]
  },
  {
   "cell_type": "markdown",
   "id": "0ef4395a",
   "metadata": {},
   "source": [
    "2. Find the BusinessTypeID for \"Restaurant/Cafe/Canteen\" and return only the `BusinessTypeID` and `BusinessType` fields."
   ]
  },
  {
   "cell_type": "code",
   "execution_count": 40,
   "id": "93c63829",
   "metadata": {},
   "outputs": [
    {
     "name": "stdout",
     "output_type": "stream",
     "text": [
      "{'BusinessType': 'Restaurant/Cafe/Canteen', 'BusinessTypeID': 1}\n",
      "{'BusinessType': 'Restaurant/Cafe/Canteen', 'BusinessTypeID': 1}\n",
      "{'BusinessType': 'Restaurant/Cafe/Canteen', 'BusinessTypeID': 1}\n",
      "{'BusinessType': 'Restaurant/Cafe/Canteen', 'BusinessTypeID': 1}\n",
      "{'BusinessType': 'Restaurant/Cafe/Canteen', 'BusinessTypeID': 1}\n",
      "{'BusinessType': 'Restaurant/Cafe/Canteen', 'BusinessTypeID': 1}\n",
      "{'BusinessType': 'Restaurant/Cafe/Canteen', 'BusinessTypeID': 1}\n",
      "{'BusinessType': 'Restaurant/Cafe/Canteen', 'BusinessTypeID': 1}\n",
      "{'BusinessType': 'Restaurant/Cafe/Canteen', 'BusinessTypeID': 1}\n",
      "{'BusinessType': 'Restaurant/Cafe/Canteen', 'BusinessTypeID': 1}\n"
     ]
    }
   ],
   "source": [
    "# Find the BusinessTypeID for \"Restaurant/Cafe/Canteen\" and return only the BusinessTypeID and BusinessType fields\n",
    "query =  {\n",
    "    'BusinessType': 'Restaurant/Cafe/Canteen',\n",
    "    'BusinessTypeID': 1\n",
    "    }\n",
    "fields = {\n",
    "    'BusinessType': 1,\n",
    "    'BusinessTypeID': 1,\n",
    "    '_id':0\n",
    "    }\n",
    "results = establishments.find(query,fields)\n",
    "for result in results[:10]:\n",
    "    pprint(result)"
   ]
  },
  {
   "cell_type": "markdown",
   "id": "4e570caf",
   "metadata": {},
   "source": [
    "3. Update the new restaurant with the `BusinessTypeID` you found."
   ]
  },
  {
   "cell_type": "code",
   "execution_count": 41,
   "id": "7f599f3d",
   "metadata": {},
   "outputs": [
    {
     "data": {
      "text/plain": [
       "UpdateResult({'n': 1, 'nModified': 1, 'ok': 1.0, 'updatedExisting': True}, acknowledged=True)"
      ]
     },
     "execution_count": 41,
     "metadata": {},
     "output_type": "execute_result"
    }
   ],
   "source": [
    "# Update the new restaurant with the correct BusinessTypeID\n",
    "query = {\n",
    "    \"BusinessName\": \"Penang Flavours\"\n",
    "}\n",
    "value = {'$set': {'BusinessTypeID': 1}}\n",
    "\n",
    "establishments.update_one(query,value)"
   ]
  },
  {
   "cell_type": "code",
   "execution_count": 42,
   "id": "a6ad16f7",
   "metadata": {},
   "outputs": [
    {
     "name": "stdout",
     "output_type": "stream",
     "text": [
      "{'BusinessName': 'Penang Flavours',\n",
      " 'BusinessTypeID': 1,\n",
      " '_id': ObjectId('679506207425e00ced16aa5f')}\n"
     ]
    }
   ],
   "source": [
    "# Confirm that the new restaurant was updated\n",
    "query =  {\n",
    "    \"BusinessName\": \"Penang Flavours\"\n",
    "}\n",
    "fields = {\n",
    "    \"BusinessName\": 1,\n",
    "    'BusinessTypeID': 1\n",
    "    }\n",
    "results = establishments.find(query,fields)\n",
    "for result in results:\n",
    "    pprint(result)"
   ]
  },
  {
   "cell_type": "markdown",
   "id": "67281254",
   "metadata": {},
   "source": [
    "4. The magazine is not interested in any establishments in Dover, so check how many documents contain the Dover Local Authority. Then, remove any establishments within the Dover Local Authority from the database, and check the number of documents to ensure they were deleted."
   ]
  },
  {
   "cell_type": "code",
   "execution_count": 43,
   "id": "768474a6",
   "metadata": {},
   "outputs": [
    {
     "name": "stdout",
     "output_type": "stream",
     "text": [
      "Total number of documents in the collection are 39780\n",
      "Number of documents having LocalAuthorityName as \"Dover\" are 994\n"
     ]
    }
   ],
   "source": [
    "# Find how many documents have LocalAuthorityName as \"Dover\"\n",
    "print(f'Total number of documents in the collection are {establishments.count_documents({})}')\n",
    "query = {\n",
    "    \"LocalAuthorityName\": \"Dover\"\n",
    "    }\n",
    "count = establishments.count_documents(query)\n",
    "print(f'Number of documents having LocalAuthorityName as \"Dover\" are {count}')"
   ]
  },
  {
   "cell_type": "code",
   "execution_count": 44,
   "id": "a11d5f1b",
   "metadata": {},
   "outputs": [
    {
     "name": "stdout",
     "output_type": "stream",
     "text": [
      "994 documents deleted.\n"
     ]
    }
   ],
   "source": [
    "# Delete all documents where LocalAuthorityName is \"Dover\"\n",
    "result = establishments.delete_many(query)\n",
    "print(f'{result.deleted_count} documents deleted.')"
   ]
  },
  {
   "cell_type": "code",
   "execution_count": 45,
   "id": "2a51aba0",
   "metadata": {},
   "outputs": [
    {
     "name": "stdout",
     "output_type": "stream",
     "text": [
      "Number of documents having LocalAuthorityName as \"Dover\" is 0\n",
      "Total number of documents remaining in the collection are 38786\n"
     ]
    }
   ],
   "source": [
    "# Check if any remaining documents include Dover\n",
    "query = {\n",
    "    \"LocalAuthorityName\": \"Dover\"\n",
    "    }\n",
    "count = establishments.count_documents(query)\n",
    "print(f'Number of documents having LocalAuthorityName as \"Dover\" is {count}')\n",
    "print(f'Total number of documents remaining in the collection are {establishments.count_documents({})}')"
   ]
  },
  {
   "cell_type": "code",
   "execution_count": 46,
   "id": "8c356f7b",
   "metadata": {},
   "outputs": [
    {
     "name": "stdout",
     "output_type": "stream",
     "text": [
      "{'AddressLine1': '16 The Stade',\n",
      " 'AddressLine2': 'Folkestone',\n",
      " 'AddressLine3': 'Kent',\n",
      " 'AddressLine4': '',\n",
      " 'BusinessName': 'Mariner',\n",
      " 'BusinessType': 'Pub/bar/nightclub',\n",
      " 'BusinessTypeID': 7843,\n",
      " 'ChangesByServerID': 0,\n",
      " 'Distance': 4591.912144538092,\n",
      " 'FHRSID': 289560,\n",
      " 'LocalAuthorityBusinessID': 'PI/000039927',\n",
      " 'LocalAuthorityCode': '188',\n",
      " 'LocalAuthorityEmailAddress': 'foodteam@folkestone-hythe.gov.uk',\n",
      " 'LocalAuthorityName': 'Folkestone and Hythe',\n",
      " 'LocalAuthorityWebSite': 'http://www.folkestone-hythe.gov.uk',\n",
      " 'NewRatingPending': False,\n",
      " 'Phone': '',\n",
      " 'PostCode': 'CT19 6AB',\n",
      " 'RatingDate': '2019-03-19T00:00:00',\n",
      " 'RatingKey': 'fhrs_5_en-gb',\n",
      " 'RatingValue': '5',\n",
      " 'RightToReply': '',\n",
      " 'SchemeType': 'FHRS',\n",
      " '_id': ObjectId('6795061fcd6ec0462f31cb34'),\n",
      " 'geocode': {'latitude': '51.08084', 'longitude': '1.188537'},\n",
      " 'links': [{'href': 'https://api.ratings.food.gov.uk/establishments/289560',\n",
      "            'rel': 'self'}],\n",
      " 'meta': {'dataSource': None,\n",
      "          'extractDate': '0001-01-01T00:00:00',\n",
      "          'itemCount': 0,\n",
      "          'pageNumber': 0,\n",
      "          'pageSize': 0,\n",
      "          'returncode': None,\n",
      "          'totalCount': 0,\n",
      "          'totalPages': 0},\n",
      " 'scores': {'ConfidenceInManagement': 0, 'Hygiene': 0, 'Structural': 5}}\n"
     ]
    }
   ],
   "source": [
    "# Check that other documents remain with 'find_one'\n",
    "remaining_document = establishments.find_one()\n",
    "\n",
    "pprint(remaining_document)"
   ]
  },
  {
   "attachments": {},
   "cell_type": "markdown",
   "id": "e9f1662d",
   "metadata": {},
   "source": [
    "5. Some of the number values are stored as strings, when they should be stored as numbers."
   ]
  },
  {
   "attachments": {},
   "cell_type": "markdown",
   "id": "c46df2df",
   "metadata": {},
   "source": [
    "Use `update_many` to convert `latitude` and `longitude` to decimal numbers."
   ]
  },
  {
   "cell_type": "code",
   "execution_count": 47,
   "id": "fd4112ce",
   "metadata": {},
   "outputs": [
    {
     "name": "stdout",
     "output_type": "stream",
     "text": [
      "Data type of geocode.latitude: float\n",
      "Data type of geocode.longitude: float\n"
     ]
    }
   ],
   "source": [
    "# Change the data type from String to Decimal for longitude and latitude\n",
    "establishments.update_many(\n",
    "    {}, \n",
    "    [\n",
    "        {'$set': { \"geocode.latitude\": {'$toDouble': \"$geocode.latitude\"} }},\n",
    "        {'$set': { \"geocode.longitude\": {'$toDouble': \"$geocode.longitude\"} }}\n",
    "    ]\n",
    ")\n",
    "\n",
    "# Print data types of geocode.latitude and geocode.longitude\n",
    "latitude_type = type(establishments.find_one()['geocode']['latitude']).__name__\n",
    "longitude_type = type(establishments.find_one()['geocode']['longitude']).__name__\n",
    "\n",
    "print(f\"Data type of geocode.latitude: {latitude_type}\")\n",
    "print(f\"Data type of geocode.longitude: {longitude_type}\")"
   ]
  },
  {
   "attachments": {},
   "cell_type": "markdown",
   "id": "142e319c",
   "metadata": {},
   "source": [
    "Use `update_many` to convert `RatingValue` to integer numbers."
   ]
  },
  {
   "cell_type": "code",
   "execution_count": 48,
   "id": "88ce2d11",
   "metadata": {},
   "outputs": [
    {
     "name": "stdout",
     "output_type": "stream",
     "text": [
      "Out of a total of 38786, there are 4157 documents where RatingValue is not 1, 2, 3, 4, or 5.\n",
      "----------------------------------------------------------------------------------------------\n",
      "Unique non_ratings values:\n",
      "0\n",
      "Awaiting Inspection\n",
      "AwaitingInspection\n",
      "AwaitingPublication\n",
      "Exempt\n",
      "Pass\n",
      "----------------------------------------------------------------------------------------------\n",
      "The starter_code wanted us to filter out the documents where RatingValue is not 1, 2, 3, 4, 5.\n",
      "And in the next step wanted us to only replace the worded non_ratings to be replaced by NULLs,\n",
      "but there are 65 documents where RatingValue is 0.\n",
      "----------------------------------------------------------------------------------------------\n",
      "Created a non_ratings list having all types of non_ratings, including 0s,\n",
      "to be used for replacing them with null values. Here is the non_ratings list:\n",
      "['0', 'Awaiting Inspection', 'AwaitingInspection', 'AwaitingPublication', 'Exempt', 'Pass']\n"
     ]
    }
   ],
   "source": [
    "# Find documents where RatingValue is not 1, 2, 3, 4, or 5\n",
    "query = {\n",
    "    \"RatingValue\": {\"$nin\": ['1', '2', '3', '4', '5']}\n",
    "}\n",
    "\n",
    "# Count the documents that match the query\n",
    "count = establishments.count_documents(query)\n",
    "print(f'Out of a total of {establishments.count_documents({})}, there are {count} documents where RatingValue is not 1, 2, 3, 4, or 5.')\n",
    "print('----------------------------------------------------------------------------------------------')\n",
    "\n",
    "# Get unique values of RatingValue other than 1, 2, 3, 4, 5\n",
    "ratings = ['1','2','3','4','5']\n",
    "non_ratings = []\n",
    "not_rated = establishments.distinct(\"RatingValue\", {\"RatingValue\": {\"$nin\": ratings}})\n",
    "print(\"Unique non_ratings values:\")\n",
    "for value in not_rated:\n",
    "    print(value)\n",
    "    non_ratings.append(value)  # Fix: Append the value to the non_ratings list\n",
    "print('----------------------------------------------------------------------------------------------')\n",
    "\n",
    "# Find where RatingValue is 0\n",
    "query_zero = {\n",
    "    'RatingValue': '0',\n",
    "}\n",
    "count_zero = establishments.count_documents(query_zero)\n",
    "print(f'The starter_code wanted us to filter out the documents where RatingValue is not 1, 2, 3, 4, 5.\\nAnd in the next step wanted us to only replace the worded non_ratings to be replaced by NULLs,\\nbut there are {count_zero} documents where RatingValue is 0.')\n",
    "\n",
    "print('----------------------------------------------------------------------------------------------')\n",
    "# Print the non_ratings list\n",
    "# Print the non_ratings list\n",
    "print(f'Created a non_ratings list having all types of non_ratings, including 0s,\\nto be used for replacing them with null values. Here is the non_ratings list:\\n{non_ratings}')"
   ]
  },
  {
   "cell_type": "code",
   "execution_count": 49,
   "id": "04430a5b",
   "metadata": {},
   "outputs": [
    {
     "data": {
      "text/plain": [
       "UpdateResult({'n': 4156, 'nModified': 4156, 'ok': 1.0, 'updatedExisting': True}, acknowledged=True)"
      ]
     },
     "execution_count": 49,
     "metadata": {},
     "output_type": "execute_result"
    }
   ],
   "source": [
    "# non_ratings = [\"AwaitingInspection\", \"Awaiting Inspection\", \"AwaitingPublication\", \"Pass\", \"Exempt\"]\n",
    "# Set non 1-5 Rating Values to Null\n",
    "establishments.update_many({\"RatingValue\": {\"$in\": non_ratings}}, [ {'$set':{ \"RatingValue\" : None}} ])"
   ]
  },
  {
   "cell_type": "code",
   "execution_count": 50,
   "id": "513b6e5a",
   "metadata": {},
   "outputs": [
    {
     "name": "stdout",
     "output_type": "stream",
     "text": [
      "Confirmation: All non_ratings were replaced by NULL\n"
     ]
    }
   ],
   "source": [
    "# Count the documents where RatingValue is None\n",
    "replaced = establishments.count_documents({\"RatingValue\": None})\n",
    "\n",
    "# Confirm that the count is 4157\n",
    "if replaced == count:\n",
    "    print(\"Confirmation: All non_ratings were replaced by NULL\")\n",
    "else:\n",
    "    print(f\"Alert: Check again something went wrong, {count-replaced} documents could not be replaced with NULL\")"
   ]
  },
  {
   "cell_type": "code",
   "execution_count": 51,
   "id": "92524ccc",
   "metadata": {},
   "outputs": [
    {
     "data": {
      "text/plain": [
       "UpdateResult({'n': 38786, 'nModified': 34630, 'ok': 1.0, 'updatedExisting': True}, acknowledged=True)"
      ]
     },
     "execution_count": 51,
     "metadata": {},
     "output_type": "execute_result"
    }
   ],
   "source": [
    "# Change the data type from String to Integer for RatingValue\n",
    "establishments.update_many(\n",
    "    {}, \n",
    "    [\n",
    "        {'$set': { \"RatingValue\": {'$toInt': \"$RatingValue\"} }},\n",
    "    ]\n",
    ")"
   ]
  },
  {
   "cell_type": "code",
   "execution_count": 52,
   "id": "0deacaf9",
   "metadata": {},
   "outputs": [
    {
     "name": "stdout",
     "output_type": "stream",
     "text": [
      "New Data type of RatingValue: int\n"
     ]
    }
   ],
   "source": [
    "# Check that the coordinates and rating value are now numbers\n",
    "RatingValue_type = type(establishments.find_one()['RatingValue']).__name__\n",
    "\n",
    "print(f\"New Data type of RatingValue: {RatingValue_type}\")"
   ]
  },
  {
   "cell_type": "code",
   "execution_count": 53,
   "id": "d5cbddbc",
   "metadata": {},
   "outputs": [
    {
     "name": "stdout",
     "output_type": "stream",
     "text": [
      "Unique data types of RatingValue in documents:\n",
      "NoneType\n",
      "int\n"
     ]
    }
   ],
   "source": [
    "# Change the data type from String to Integer for RatingValue\n",
    "establishments.update_many(\n",
    "    {}, \n",
    "    [\n",
    "        {'$set': { \"RatingValue\": {'$toInt': \"$RatingValue\"} }},\n",
    "    ]\n",
    ")\n",
    "\n",
    "# Retrieve all documents to check the updated data types\n",
    "documents = establishments.find()\n",
    "\n",
    "# Check that the coordinates and rating value are now numbers\n",
    "unique_rating_types = set()\n",
    "\n",
    "for doc in documents:\n",
    "    rating_value_type = type(doc['RatingValue']).__name__\n",
    "    unique_rating_types.add(rating_value_type)\n",
    "\n",
    "print(\"Unique data types of RatingValue in documents:\")\n",
    "for dtype in unique_rating_types:\n",
    "    print(dtype)"
   ]
  },
  {
   "cell_type": "code",
   "execution_count": 54,
   "id": "93351915",
   "metadata": {},
   "outputs": [
    {
     "name": "stdout",
     "output_type": "stream",
     "text": [
      "Transformed collection exported to the 'Resource' folder.\n"
     ]
    }
   ],
   "source": [
    "# Retrieve all documents from the transformed collection\n",
    "documents = establishments.find()\n",
    "\n",
    "# Convert the documents to a list and remove the ObjectId field\n",
    "transformed_documents = []\n",
    "for doc in documents:\n",
    "    # Convert ObjectId to a string\n",
    "    doc['_id'] = str(doc['_id'])\n",
    "    transformed_documents.append(doc)\n",
    "\n",
    "# Get the current directory of the notebook\n",
    "current_directory = os.getcwd()\n",
    "\n",
    "# Define the path where you want to save the JSON file\n",
    "file_path = os.path.join(current_directory, 'Resources', 'transformed_establishments.json')\n",
    "\n",
    "# Write the transformed documents to a JSON file\n",
    "with open(file_path, 'w') as file:\n",
    "    json.dump(transformed_documents, file, indent=4)\n",
    "\n",
    "print(f\"Transformed collection exported to the 'Resource' folder.\")"
   ]
  }
 ],
 "metadata": {
  "kernelspec": {
   "display_name": "dev",
   "language": "python",
   "name": "python3"
  },
  "language_info": {
   "codemirror_mode": {
    "name": "ipython",
    "version": 3
   },
   "file_extension": ".py",
   "mimetype": "text/x-python",
   "name": "python",
   "nbconvert_exporter": "python",
   "pygments_lexer": "ipython3",
   "version": "3.10.13"
  }
 },
 "nbformat": 4,
 "nbformat_minor": 5
}
